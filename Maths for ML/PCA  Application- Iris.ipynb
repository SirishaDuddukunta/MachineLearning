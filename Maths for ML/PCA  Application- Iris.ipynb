{
 "cells": [
  {
   "cell_type": "markdown",
   "id": "3032a94a",
   "metadata": {},
   "source": [
    "#### What is PCA?\n",
    "PCA stands for Principal Component Analysis. It is a dimensionality reduction technique used to reduce the number of features in a dataset while retaining most of the variance (information) in the data. PCA is particularly useful when dealing with high-dimensional data, where it can help simplify the data, reduce noise, and make the data easier to visualize or use in machine learning algorithms.\n",
    "\n",
    "\n",
    "#### How Does PCA Work?\n",
    "PCA works by finding the directions (called principal components) along which the data varies the most. These directions are orthogonal (perpendicular) to each other and ordered by the amount of variance they capture. The first principal component captures the most variance, the second the second-most, and so on. By projecting the data onto these principal components, PCA transforms the original dataset into a new set of variables that are uncorrelated.\n",
    "\n",
    "#### Why Use PCA?\n",
    "Dimensionality Reduction: By reducing the number of features, PCA can help simplify models, reduce overfitting, and improve computational efficiency.\n",
    "Noise Reduction: PCA can help remove noise from the data by focusing on the components that capture the most variance.\n",
    "Data Visualization: PCA is often used to visualize high-dimensional data in 2D or 3D by reducing it to two or three principal components."
   ]
  },
  {
   "cell_type": "markdown",
   "id": "a950492d",
   "metadata": {},
   "source": [
    "## Implementing PCA on the Iris Dataset"
   ]
  },
  {
   "cell_type": "code",
   "execution_count": 1,
   "id": "89458e16",
   "metadata": {},
   "outputs": [],
   "source": [
    "#We'll use scikit-learn to load the Iris dataset and matplotlib for visualization.\n",
    "import numpy as np\n",
    "import matplotlib.pyplot as plt\n",
    "from sklearn.decomposition import PCA\n",
    "from sklearn.datasets import load_iris\n",
    "from sklearn.preprocessing import StandardScaler #StandardScaler standardizes the features by removing the mean and scaling \n",
    "#to unit variance,The StandardScaler is a tool used for feature scaling, which is an essential step in data preprocessing\n",
    "#before applying many machine learning algorithms. Feature scaling ensures that all features contribute equally to the model's\n",
    "#performance,which can be particularly important for algorithms sensitive to the scale of input data, like PCA,SVM,k-means clustering "
   ]
  },
  {
   "cell_type": "code",
   "execution_count": 4,
   "id": "db50eccd",
   "metadata": {},
   "outputs": [
    {
     "name": "stdout",
     "output_type": "stream",
     "text": [
      "First five rows of the Iris dataset:\n",
      " [[5.1 3.5 1.4 0.2]\n",
      " [4.9 3.  1.4 0.2]\n",
      " [4.7 3.2 1.3 0.2]\n",
      " [4.6 3.1 1.5 0.2]\n",
      " [5.  3.6 1.4 0.2]]\n"
     ]
    }
   ],
   "source": [
    "#Step 2: Load and Explore the Dataset\n",
    "#The Iris dataset contains 150 samples with 4 features each (sepal length, sepal width, petal length, petal width).\n",
    "# Load the Iris dataset\n",
    "iris = load_iris()\n",
    "X = iris.data #assigns the feature data of the Iris dataset to the variable X.\n",
    "y = iris.target # assigns the target labels of the Iris dataset to the variable y.\n",
    "target_names = iris.target_names #assigns the names of the target classes(species of iris flowers)to variable target_names.\n",
    "\n",
    "# Display the first few rows\n",
    "print(\"First five rows of the Iris dataset:\\n\", X[:5])\n"
   ]
  },
  {
   "cell_type": "code",
   "execution_count": 2,
   "id": "eaad3218",
   "metadata": {},
   "outputs": [
    {
     "name": "stdout",
     "output_type": "stream",
     "text": [
      "['__all__', '__builtins__', '__cached__', '__doc__', '__file__', '__loader__', '__name__', '__package__', '__path__', '__spec__', '_base', '_california_housing', '_covtype', '_kddcup99', '_lfw', '_olivetti_faces', '_openml', '_rcv1', '_samples_generator', '_species_distributions', '_svmlight_format_fast', '_svmlight_format_io', '_twenty_newsgroups', 'clear_data_home', 'dump_svmlight_file', 'fetch_20newsgroups', 'fetch_20newsgroups_vectorized', 'fetch_california_housing', 'fetch_covtype', 'fetch_kddcup99', 'fetch_lfw_pairs', 'fetch_lfw_people', 'fetch_olivetti_faces', 'fetch_openml', 'fetch_rcv1', 'fetch_species_distributions', 'get_data_home', 'load_boston', 'load_breast_cancer', 'load_diabetes', 'load_digits', 'load_files', 'load_iris', 'load_linnerud', 'load_sample_image', 'load_sample_images', 'load_svmlight_file', 'load_svmlight_files', 'load_wine', 'make_biclusters', 'make_blobs', 'make_checkerboard', 'make_circles', 'make_classification', 'make_friedman1', 'make_friedman2', 'make_friedman3', 'make_gaussian_quantiles', 'make_hastie_10_2', 'make_low_rank_matrix', 'make_moons', 'make_multilabel_classification', 'make_regression', 'make_s_curve', 'make_sparse_coded_signal', 'make_sparse_spd_matrix', 'make_sparse_uncorrelated', 'make_spd_matrix', 'make_swiss_roll']\n"
     ]
    }
   ],
   "source": [
    "import sklearn.datasets as datasets\n",
    "\n",
    "# List all attributes in the sklearn.datasets module\n",
    "print(dir(datasets))"
   ]
  },
  {
   "cell_type": "code",
   "execution_count": 6,
   "id": "089c34ab",
   "metadata": {},
   "outputs": [
    {
     "name": "stdout",
     "output_type": "stream",
     "text": [
      ".. _iris_dataset:\n",
      "\n",
      "Iris plants dataset\n",
      "--------------------\n",
      "\n",
      "**Data Set Characteristics:**\n",
      "\n",
      "    :Number of Instances: 150 (50 in each of three classes)\n",
      "    :Number of Attributes: 4 numeric, predictive attributes and the class\n",
      "    :Attribute Information:\n",
      "        - sepal length in cm\n",
      "        - sepal width in cm\n",
      "        - petal length in cm\n",
      "        - petal width in cm\n",
      "        - class:\n",
      "                - Iris-Setosa\n",
      "                - Iris-Versicolour\n",
      "                - Iris-Virginica\n",
      "                \n",
      "    :Summary Statistics:\n",
      "\n",
      "    ============== ==== ==== ======= ===== ====================\n",
      "                    Min  Max   Mean    SD   Class Correlation\n",
      "    ============== ==== ==== ======= ===== ====================\n",
      "    sepal length:   4.3  7.9   5.84   0.83    0.7826\n",
      "    sepal width:    2.0  4.4   3.05   0.43   -0.4194\n",
      "    petal length:   1.0  6.9   3.76   1.76    0.9490  (high!)\n",
      "    petal width:    0.1  2.5   1.20   0.76    0.9565  (high!)\n",
      "    ============== ==== ==== ======= ===== ====================\n",
      "\n",
      "    :Missing Attribute Values: None\n",
      "    :Class Distribution: 33.3% for each of 3 classes.\n",
      "    :Creator: R.A. Fisher\n",
      "    :Donor: Michael Marshall (MARSHALL%PLU@io.arc.nasa.gov)\n",
      "    :Date: July, 1988\n",
      "\n",
      "The famous Iris database, first used by Sir R.A. Fisher. The dataset is taken\n",
      "from Fisher's paper. Note that it's the same as in R, but not as in the UCI\n",
      "Machine Learning Repository, which has two wrong data points.\n",
      "\n",
      "This is perhaps the best known database to be found in the\n",
      "pattern recognition literature.  Fisher's paper is a classic in the field and\n",
      "is referenced frequently to this day.  (See Duda & Hart, for example.)  The\n",
      "data set contains 3 classes of 50 instances each, where each class refers to a\n",
      "type of iris plant.  One class is linearly separable from the other 2; the\n",
      "latter are NOT linearly separable from each other.\n",
      "\n",
      ".. topic:: References\n",
      "\n",
      "   - Fisher, R.A. \"The use of multiple measurements in taxonomic problems\"\n",
      "     Annual Eugenics, 7, Part II, 179-188 (1936); also in \"Contributions to\n",
      "     Mathematical Statistics\" (John Wiley, NY, 1950).\n",
      "   - Duda, R.O., & Hart, P.E. (1973) Pattern Classification and Scene Analysis.\n",
      "     (Q327.D83) John Wiley & Sons.  ISBN 0-471-22361-1.  See page 218.\n",
      "   - Dasarathy, B.V. (1980) \"Nosing Around the Neighborhood: A New System\n",
      "     Structure and Classification Rule for Recognition in Partially Exposed\n",
      "     Environments\".  IEEE Transactions on Pattern Analysis and Machine\n",
      "     Intelligence, Vol. PAMI-2, No. 1, 67-71.\n",
      "   - Gates, G.W. (1972) \"The Reduced Nearest Neighbor Rule\".  IEEE Transactions\n",
      "     on Information Theory, May 1972, 431-433.\n",
      "   - See also: 1988 MLC Proceedings, 54-64.  Cheeseman et al\"s AUTOCLASS II\n",
      "     conceptual clustering system finds 3 classes in the data.\n",
      "   - Many, many more ...\n"
     ]
    }
   ],
   "source": [
    "print(iris.DESCR)"
   ]
  },
  {
   "cell_type": "code",
   "execution_count": null,
   "id": "b167ec78",
   "metadata": {},
   "outputs": [],
   "source": [
    "Step 3: Standardize the Data\n",
    "PCA is sensitive to the scale of the data, so we standardize it to have a mean of 0 and a standard deviation of 1."
   ]
  },
  {
   "cell_type": "code",
   "execution_count": 7,
   "id": "36cefdf0",
   "metadata": {},
   "outputs": [
    {
     "name": "stdout",
     "output_type": "stream",
     "text": [
      "Standardized data:\n",
      " [[-0.90068117  1.01900435 -1.34022653 -1.3154443 ]\n",
      " [-1.14301691 -0.13197948 -1.34022653 -1.3154443 ]\n",
      " [-1.38535265  0.32841405 -1.39706395 -1.3154443 ]\n",
      " [-1.50652052  0.09821729 -1.2833891  -1.3154443 ]\n",
      " [-1.02184904  1.24920112 -1.34022653 -1.3154443 ]]\n"
     ]
    }
   ],
   "source": [
    "# Standardize the data\n",
    "#Standardization is a process of transforming data to have a mean of 0 and a standard deviation of 1.\n",
    "#This is especially important in ML because many algorithms, like PCA, are sensitive to the scale of the input data.\n",
    "scaler = StandardScaler() # creates an instance of the StandardScaler class from the sklearn.preprocessing module.\n",
    "\n",
    "\"\"\"X_std = scaler.fit_transform(X)\n",
    "fit_transform is a method that does two things:\n",
    "Fit: It calculates the mean and standard deviation of each feature in the dataset X.\n",
    "Transform:It then uses these statistics to standardize the data by subtracting mean from each feature and then \n",
    "dividing by standard deviation.\n",
    "The result, X_std, is standardized version of original data X, where each feature now has a mean of 0 and a standard deviation of 1\"\"\"\n",
    "X_std = scaler.fit_transform(X) \n",
    "\n",
    "print(\"Standardized data:\\n\", X_std[:5]) #prints first five rows of standardized data."
   ]
  },
  {
   "cell_type": "code",
   "execution_count": 12,
   "id": "e4ff5264",
   "metadata": {},
   "outputs": [
    {
     "name": "stdout",
     "output_type": "stream",
     "text": [
      "PCA components:\n",
      " [[-2.26470281  0.4800266 ]\n",
      " [-2.08096115 -0.67413356]\n",
      " [-2.36422905 -0.34190802]\n",
      " [-2.29938422 -0.59739451]\n",
      " [-2.38984217  0.64683538]]\n"
     ]
    }
   ],
   "source": [
    "#Step 4: Perform PCA\n",
    "#Now, we'll perform PCA on the standardized data. We'll reduce the data to 2 principal components to visualize it in 2D space.\n",
    "\n",
    "pca = PCA(n_components=2) # The parameter n_components=2 specifies that we want to reduce the data to 2 principal components. \n",
    "X_pca = pca.fit_transform(X_std) #Fit: PCA learns the principal components from the standardized data X_std. It identifies\n",
    "#directions (principal components) in which the data varies the most.\n",
    "#Transform: The original data is then projected onto these new principal components,resulting in new dataset X_pca with\n",
    "#reduced dimensions (in this case, 2 dimensions).\n",
    "#X_pca contains the transformed data, where each row represents the original data point in the new 2D space defined by the principal components.\n",
    "\n",
    "print(\"PCA components:\\n\", X_pca[:5])#prints the first five rows of the transformed data\n"
   ]
  },
  {
   "cell_type": "code",
   "execution_count": 13,
   "id": "ebba43f7",
   "metadata": {},
   "outputs": [
    {
     "data": {
      "image/png": "[encoded data removed]",
      "text/plain": [
       "<Figure size 576x432 with 1 Axes>"
      ]
     },
     "metadata": {
      "needs_background": "light"
     },
     "output_type": "display_data"
    }
   ],
   "source": [
    "#Step 5: Visualize the Results\n",
    "# Plot the PCA result\n",
    "plt.figure(figsize=(8, 6))\n",
    "colors = ['navy', 'turquoise', 'darkorange']\n",
    "lw = 2\n",
    "\n",
    "for color, i, target_name in zip(colors, [0, 1, 2], target_names):\n",
    "    plt.scatter(X_pca[y == i, 0], X_pca[y == i, 1], color=color, alpha=.8, lw=lw,\n",
    "                label=target_name)\n",
    "\n",
    "plt.legend(loc='best', shadow=False, scatterpoints=1)\n",
    "plt.title('PCA of IRIS dataset')\n",
    "plt.xlabel('Principal Component 1')\n",
    "plt.ylabel('Principal Component 2')\n",
    "plt.show()"
   ]
  },
  {
   "cell_type": "code",
   "execution_count": 15,
   "id": "f586e79b",
   "metadata": {},
   "outputs": [
    {
     "name": "stdout",
     "output_type": "stream",
     "text": [
      "Explained variance by each component:\n",
      " [0.72962445 0.22850762]\n",
      "Total variance explained by the two components: 0.9581320720000164\n"
     ]
    }
   ],
   "source": [
    "#Evaluate the Explained Variance\n",
    "#check how much variance is explained by the two principal components we retained.\n",
    "#explained_variance_ratio_ in Principal Component Analysis (PCA) represents the proportion of the dataset's variance \n",
    "#that each principal component captures. \n",
    "print(\"Explained variance by each component:\\n\", pca.explained_variance_ratio_)\n",
    "print(\"Total variance explained by the two components:\", np.sum(pca.explained_variance_ratio_))"
   ]
  },
  {
   "cell_type": "markdown",
   "id": "22ca2a28",
   "metadata": {},
   "source": [
    "Conclusion\n",
    "\n",
    "\n",
    "In this project, we performed PCA on the Iris dataset to reduce its dimensionality and visualize the data in 2D space. PCA helped in capturing the variance in the data with just two principal components, which can be extremely useful for exploratory data analysis and as a preprocessing step before applying machine learning algorithms."
   ]
  }
 ],
 "metadata": {
  "kernelspec": {
   "display_name": "Python 3",
   "language": "python",
   "name": "python3"
  },
  "language_info": {
   "codemirror_mode": {
    "name": "ipython",
    "version": 3
   },
   "file_extension": ".py",
   "mimetype": "text/x-python",
   "name": "python",
   "nbconvert_exporter": "python",
   "pygments_lexer": "ipython3",
   "version": "3.8.8"
  }
 },
 "nbformat": 4,
 "nbformat_minor": 5
}
