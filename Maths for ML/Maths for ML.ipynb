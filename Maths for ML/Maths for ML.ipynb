{
 "cells": [
  {
   "cell_type": "markdown",
   "id": "68caaf06",
   "metadata": {},
   "source": [
    "### NumPy (Numerical Python) is an open source Python library that’s widely used in science and engineering. The NumPy library contains multidimensional array data structures, such as the homogeneous, N-dimensional ndarray, and a large library of functions that operate efficiently on these data structures."
   ]
  },
  {
   "cell_type": "code",
   "execution_count": 1,
   "id": "65210487",
   "metadata": {},
   "outputs": [],
   "source": [
    "import numpy as np"
   ]
  },
  {
   "cell_type": "code",
   "execution_count": 24,
   "id": "65cf85a9",
   "metadata": {},
   "outputs": [
    {
     "name": "stdout",
     "output_type": "stream",
     "text": [
      "Vector Sum: [5 7 9]\n",
      "Matrix Sum:\n",
      " [[ 8 10 12]\n",
      " [14 16 18]]\n"
     ]
    }
   ],
   "source": [
    "# Vector addition\n",
    "vector1 = np.array([1, 2, 3])\n",
    "vector2 = np.array([4, 5, 6])\n",
    "vector_sum = vector1 + vector2\n",
    "print(\"Vector Sum:\", vector_sum)\n",
    "\n",
    "# Matrix addition\n",
    "matrix1 = np.array([[1, 2, 3], [4, 5, 6]])\n",
    "matrix2 = np.array([[7, 8, 9], [10, 11, 12]])\n",
    "matrix_sum = matrix1 + matrix2\n",
    "print(\"Matrix Sum:\\n\", matrix_sum)"
   ]
  },
  {
   "cell_type": "code",
   "execution_count": 28,
   "id": "3925cf31",
   "metadata": {},
   "outputs": [
    {
     "name": "stdout",
     "output_type": "stream",
     "text": [
      "Scaled Vector: [1, 2, 3, 1, 2, 3]\n",
      "Scaled Matrix:\n",
      " [[2 4]\n",
      " [6 8]]\n"
     ]
    }
   ],
   "source": [
    "#Scalar Multiplication\n",
    "#You can multiply a vector or matrix by a scalar:\n",
    "# Scalar multiplication\n",
    "scalar = 2\n",
    "vector = [1,2,3]\n",
    "vector_scaled = scalar * vector\n",
    "print(\"Scaled Vector:\", vector_scaled)\n",
    "\n",
    "matrix=np.array([[1,2],[3,4]])\n",
    "\n",
    "matrix_scaled = scalar * matrix\n",
    "print(\"Scaled Matrix:\\n\", matrix_scaled)"
   ]
  },
  {
   "cell_type": "code",
   "execution_count": 34,
   "id": "c1efaf98",
   "metadata": {},
   "outputs": [
    {
     "name": "stdout",
     "output_type": "stream",
     "text": [
      "Element-wise Product: [ 4 10 18]\n",
      "Element-wise Matrix Product:\n",
      " [[ 5 12]\n",
      " [21 32]]\n"
     ]
    }
   ],
   "source": [
    "#Element-wise Multiplication\n",
    "#Element-wise multiplication between vectors or matrices can be done using the * operator:\n",
    "#Element-wise multiplication\n",
    "vector1 = np.array([1,2,3])\n",
    "vector2 = np.array([4,5,6])\n",
    "\n",
    "elementwise_product = vector1 * vector2\n",
    "print(\"Element-wise Product:\", elementwise_product)\n",
    "\n",
    "matrix1=np.array([[1,2],[3,4]])\n",
    "matrix2=np.array([[5,6],[7,8]])\n",
    "matrix_product = matrix1 * matrix2\n",
    "print(\"Element-wise Matrix Product:\\n\", matrix_product)"
   ]
  },
  {
   "cell_type": "markdown",
   "id": "2e4ad4a0",
   "metadata": {},
   "source": [
    "NumPy Matrix Operations\n",
    "Here are some of the basic matrix operations provided by NumPy.\n",
    "\n",
    "Functions-\tDescriptions\n",
    "array() -   creates a matrix\n",
    "dot()\t-   performs matrix multiplication \n",
    "transpose()-transposes a matrix \n",
    "linalg.inv()-calculates the inverse of a matrix\n",
    "linalg.det()-calculates the determinant of a matrix\n",
    "flatten()- \t transforms a matrix into 1D array"
   ]
  },
  {
   "cell_type": "code",
   "execution_count": 13,
   "id": "9ab5a88b",
   "metadata": {},
   "outputs": [
    {
     "name": "stdout",
     "output_type": "stream",
     "text": [
      "Matrix multipication of 2 vector :  \n",
      "  [[19 22]\n",
      " [43 50]]\n"
     ]
    }
   ],
   "source": [
    "matrix1=np.array([[1,2],[3,4]]) \n",
    "\n",
    "\n",
    "matrix2=np.array([[5,6],[7,8]])\n",
    "\n",
    "#to multipy using dot\n",
    "\n",
    "result= np.dot(matrix1 ,matrix2)\n",
    "print(\"Matrix multipication of 2 vectors :  \\n \" , result)"
   ]
  },
  {
   "cell_type": "code",
   "execution_count": 19,
   "id": "0f279525",
   "metadata": {},
   "outputs": [
    {
     "name": "stdout",
     "output_type": "stream",
     "text": [
      "[[1 2]\n",
      " [3 4]]\n",
      "Transpose of matrix is\n",
      "[[1 3]\n",
      " [2 4]]\n"
     ]
    }
   ],
   "source": [
    "# Transpose NumPy Matrix\n",
    "print(matrix1)\n",
    "transpos = np.transpose(matrix1)\n",
    "print(\"Transpose of matrix is\")\n",
    "print(transpos)"
   ]
  },
  {
   "cell_type": "code",
   "execution_count": 20,
   "id": "e8257797",
   "metadata": {},
   "outputs": [
    {
     "name": "stdout",
     "output_type": "stream",
     "text": [
      "[[1 2]\n",
      " [3 4]]\n",
      "[[-2.   1. ]\n",
      " [ 1.5 -0.5]]\n"
     ]
    }
   ],
   "source": [
    "# Inverse of a Matrix using numpy\n",
    "print(matrix1)\n",
    "inverse = np.linalg.inv(matrix1)\n",
    "print(inverse)"
   ]
  },
  {
   "cell_type": "markdown",
   "id": "d0081ccb",
   "metadata": {},
   "source": [
    "Note: If we try to find the inverse of a non-square matrix, we will get an error message: numpy.linalg.linalgerror: Last 2 dimensions of the array must be square"
   ]
  },
  {
   "cell_type": "markdown",
   "id": "25a58f0b",
   "metadata": {},
   "source": [
    "#### Determinant of a Matrix in NumPy\n",
    "We can find the determinant of a square matrix using the np.linalg.det() function to calculate the determinant of the given matrix.\n",
    "\n",
    "\n",
    "det(A) = ad - bc"
   ]
  },
  {
   "cell_type": "code",
   "execution_count": 22,
   "id": "02505e7f",
   "metadata": {},
   "outputs": [
    {
     "name": "stdout",
     "output_type": "stream",
     "text": [
      "-1.0\n"
     ]
    }
   ],
   "source": [
    "newarray=np.array([[0,1],[1,2]])\n",
    "detresult=np.linalg.det(newarray)\n",
    "print(detresult)"
   ]
  },
  {
   "cell_type": "markdown",
   "id": "85253dc3",
   "metadata": {},
   "source": [
    "### Flatten Matrix in NumPy\n",
    "Flattening a matrix simply means converting a matrix into a 1D array.\n",
    "\n",
    "To flatten a matrix into a 1-D array we use the array.flatten() function."
   ]
  },
  {
   "cell_type": "code",
   "execution_count": 23,
   "id": "b66e1350",
   "metadata": {},
   "outputs": [
    {
     "name": "stdout",
     "output_type": "stream",
     "text": [
      "Flattened 2x3 matrix: [1 2 3 4 5 7]\n"
     ]
    }
   ],
   "source": [
    "# create a 2x3 matrix\n",
    "matrix1 = np.array([[1, 2, 3], [4, 5, 7]])\n",
    "\n",
    "result = matrix1.flatten()\n",
    "print(\"Flattened 2x3 matrix:\", result)"
   ]
  },
  {
   "cell_type": "markdown",
   "id": "b743d006",
   "metadata": {},
   "source": [
    "## Eigenvectors, Eigenvalues\n",
    "Eigenvectors:\n",
    "Eigenvectors are special vectors that, when a linear transformation is applied to them, do not change their direction. They may get scaled (stretched or compressed) but they do not rotate or change direction.\n",
    "\n",
    "Example: Imagine pushing a book across a table. If you push it in certain directions, it just slides in that direction without flipping or rotating. These directions are like eigenvectors—they are directions that remain unchanged except for their length.\n",
    "\n",
    "Eigenvalues:\n",
    "What They Are: Eigenvalues are the factors by which the eigenvectors are scaled during the transformation. They tell you how much the eigenvector is stretched or compressed.\n",
    "\n",
    "Example: If you push the book and it moves twice as far as it would normally move, the \"2\" in this case is like an eigenvalue. It represents the amount by which the eigenvector is stretched.\n",
    "\n",
    "Mathematical Definition:\n",
    "In a mathematical sense, if you have a matrix \n",
    "A×v=λ×v\n",
    "where:\n",
    "A is the matrix representing the transformation,\n",
    "v is the eigenvector,\n",
    "λ (lambda) is the eigenvalue.\n",
    "This equation means that applying the matrix 𝐴\n",
    "A to the vector \n",
    "v only changes the vector's magnitude (by λ) but not its direction.\n",
    "\n",
    "Eigenvalues and Eigenvectors are the scalar and vector quantities associated with matrices used for linear transformations. The vector that only changes by a scalar factor after applying a transformation is called an eigenvector, and the scalar value attached to the eigenvector is called the eigenvalue.\n",
    "\n",
    "Eigenvectors are vectors that are associated with a matrix such that when the matrix multiplies the eigenvector, the resulting vector is a scalar multiple of the eigenvector. Eigenvectors are also called characteristic vectors and can only be found for square matrices. They are very useful in solving various problems involving matrices and differential equations\n",
    "\n",
    "(A-λI)v = 0 where A is given matrix,λ is scalar value,I is identity matrix and 0 is null matrix"
   ]
  },
  {
   "cell_type": "code",
   "execution_count": 2,
   "id": "646980b5",
   "metadata": {},
   "outputs": [
    {
     "name": "stdout",
     "output_type": "stream",
     "text": [
      "Eigenvalues: [5. 2.]\n",
      "Eigenvectors:\n",
      " [[ 0.89442719 -0.70710678]\n",
      " [ 0.4472136   0.70710678]]\n"
     ]
    }
   ],
   "source": [
    "import numpy as np\n",
    "# Example matrix\n",
    "A = np.array([[4, 2],\n",
    "              [1, 3]])\n",
    "# Calculate eigenvalues and eigenvectors\n",
    "eigenvalues, eigenvectors = np.linalg.eig(A)\n",
    "\n",
    "# Display results\n",
    "print(\"Eigenvalues:\", eigenvalues)\n",
    "print(\"Eigenvectors:\\n\", eigenvectors)"
   ]
  },
  {
   "cell_type": "code",
   "execution_count": 3,
   "id": "57879b69",
   "metadata": {},
   "outputs": [
    {
     "name": "stdout",
     "output_type": "stream",
     "text": [
      "Eigenvalues of B: [7.28799214 2.13307448 0.57893339]\n",
      "Eigenvectors of B:\n",
      " [[ 0.86643225  0.49742503 -0.0431682 ]\n",
      " [ 0.45305757 -0.8195891  -0.35073145]\n",
      " [ 0.20984279 -0.28432735  0.9354806 ]]\n"
     ]
    }
   ],
   "source": [
    "B = np.array([[6, 2, 1],\n",
    "              [2, 3, 1],\n",
    "              [1, 1, 1]])\n",
    "\n",
    "eigenvalues_B, eigenvectors_B = np.linalg.eig(B)\n",
    "print(\"Eigenvalues of B:\", eigenvalues_B)\n",
    "print(\"Eigenvectors of B:\\n\", eigenvectors_B)"
   ]
  },
  {
   "cell_type": "markdown",
   "id": "5288a747",
   "metadata": {},
   "source": [
    "Function Behavior\n",
    "When you call np.linalg.eig(B), the function performs a series of computations internally:\n",
    "\n",
    "Eigenvalues: The function first computes the eigenvalues of the matrix \n",
    "𝐵\n",
    "B. These are the roots of the characteristic equation \n",
    "det(𝐵−𝜆𝐼)=0\n",
    "det(B−λI)=0, where λ represents the eigenvalues.\n",
    "\n",
    "Eigenvectors: After finding the eigenvalues, the function computes the corresponding eigenvectors. These are the non-zero vectors \n",
    "v that satisfy 𝐵𝑣=𝜆𝑣\n",
    "Bv=λv for each eigenvalue λ.\n",
    "The function doesn’t rely on what you name these variables—it only returns the outputs in a fixed order:\n",
    "\n",
    " 1.First, the eigenvalues.\n",
    " 2.Then, the eigenvectors."
   ]
  },
  {
   "cell_type": "markdown",
   "id": "f08759f1",
   "metadata": {},
   "source": [
    "Problem 2: Diagonalization of a Matrix\n",
    "\n",
    "Given a matrix:\n",
    "\n",
    "𝐶=(3 1 0 2)\n",
    "Find its eigenvalues and eigenvectors, then verify if the matrix can be diagonalized."
   ]
  },
  {
   "cell_type": "code",
   "execution_count": 5,
   "id": "4ac3b6f6",
   "metadata": {},
   "outputs": [
    {
     "name": "stdout",
     "output_type": "stream",
     "text": [
      "Eigenvalues of C: [3. 2.]\n",
      "Eigenvectors of C:\n",
      " [[ 1.         -0.70710678]\n",
      " [ 0.          0.70710678]]\n",
      "Diagonalized C:\n",
      " [[3. 1.]\n",
      " [0. 2.]]\n"
     ]
    }
   ],
   "source": [
    "C = np.array([[3, 1],\n",
    "              [0, 2]])\n",
    "\n",
    "eigenvalues_C, eigenvectors_C = np.linalg.eig(C) #C−λI, (C−λI)v=0.\n",
    "D = np.diag(eigenvalues_C) #Diagonal Matrix Creation:creates a diagonal matrix D using the eigenvalues.\n",
    "P = eigenvectors_C #Eigenvector Matrix:Each column of P corresponds to an eigenvector of the matrix C.\n",
    "P_inv = np.linalg.inv(P) #We compute inverse of eigenvector matrixP,This is necessary for the diagonalization process.\n",
    "\n",
    "# Verify diagonalization\n",
    "diagonalized_C = P @ D @ P_inv #reconstructs C from its eigenvalues and eigenvectors,C=PDP−1.\n",
    "print(\"Eigenvalues of C:\", eigenvalues_C)\n",
    "print(\"Eigenvectors of C:\\n\", eigenvectors_C)\n",
    "print(\"Diagonalized C:\\n\", diagonalized_C)\n",
    "\n"
   ]
  },
  {
   "cell_type": "markdown",
   "id": "0a885a4f",
   "metadata": {},
   "source": [
    "Problem 3: Symmetric Matrix Eigenvalues and Eigenvectors\n",
    "For a symmetric matrix:\n",
    "\n",
    "Calculate the eigenvalues and eigenvectors and observe their properties."
   ]
  },
  {
   "cell_type": "code",
   "execution_count": 6,
   "id": "137d40a1",
   "metadata": {},
   "outputs": [
    {
     "name": "stdout",
     "output_type": "stream",
     "text": [
      "Eigenvalues of D: [6.82842712 1.17157288 2.        ]\n",
      "Eigenvectors of D:\n",
      " [[ 7.07106781e-01 -7.07106781e-01 -3.61461177e-16]\n",
      " [-5.00000000e-01 -5.00000000e-01  7.07106781e-01]\n",
      " [ 5.00000000e-01  5.00000000e-01  7.07106781e-01]]\n",
      "Orthogonality check (should be close to identity matrix):\n",
      " [[ 1.00000000e+00 -1.66533454e-16  8.80288308e-17]\n",
      " [-1.66533454e-16  1.00000000e+00  5.22593833e-16]\n",
      " [ 8.80288308e-17  5.22593833e-16  1.00000000e+00]]\n"
     ]
    }
   ],
   "source": [
    "D = np.array([[4, -2, 2],\n",
    "              [-2, 3, -1],\n",
    "              [2, -1, 3]])\n",
    "\n",
    "eigenvalues_D, eigenvectors_D = np.linalg.eig(D)\n",
    "print(\"Eigenvalues of D:\", eigenvalues_D)\n",
    "print(\"Eigenvectors of D:\\n\", eigenvectors_D)\n",
    "\n",
    "# Check if eigenvectors are orthogonal (should be for a symmetric matrix)\n",
    "orthogonality_check = np.dot(eigenvectors_D.T, eigenvectors_D) #Orthogonal eigenvectors for symmetric \n",
    "#matrices (like D) should result in an identity matrix when dot product of transpose of eigenvector matrix and the eigenvector matrix itself is calculated.\n",
    "print(\"Orthogonality check (should be close to identity matrix):\\n\", orthogonality_check)"
   ]
  },
  {
   "cell_type": "markdown",
   "id": "8c398a5a",
   "metadata": {},
   "source": [
    "Problem 4: Eigenvalue Decomposition of a 4x4 Matrix\n",
    "Find the eigenvalues and eigenvectors and explore the implications of degeneracy (multiple eigenvalues with the same value)."
   ]
  },
  {
   "cell_type": "code",
   "execution_count": 7,
   "id": "fb2c1a69",
   "metadata": {},
   "outputs": [
    {
     "name": "stdout",
     "output_type": "stream",
     "text": [
      "Eigenvalues of E: [6. 4. 6. 2.]\n",
      "Eigenvectors of E:\n",
      " [[ 0.70710678 -0.70710678  0.          0.        ]\n",
      " [ 0.70710678  0.70710678  0.          0.        ]\n",
      " [ 0.         -0.          0.70710678 -0.70710678]\n",
      " [ 0.         -0.          0.70710678  0.70710678]]\n"
     ]
    }
   ],
   "source": [
    "E = np.array([[5, 1, 0, 0],\n",
    "              [1, 5, 0, 0],\n",
    "              [0, 0, 4, 2],\n",
    "              [0, 0, 2, 4]])\n",
    "\n",
    "eigenvalues_E, eigenvectors_E = np.linalg.eig(E)\n",
    "print(\"Eigenvalues of E:\", eigenvalues_E)\n",
    "print(\"Eigenvectors of E:\\n\", eigenvectors_E)"
   ]
  },
  {
   "cell_type": "code",
   "execution_count": null,
   "id": "76ad59b4",
   "metadata": {},
   "outputs": [],
   "source": []
  },
  {
   "cell_type": "code",
   "execution_count": null,
   "id": "6e64ff3c",
   "metadata": {},
   "outputs": [],
   "source": []
  },
  {
   "cell_type": "code",
   "execution_count": null,
   "id": "04e01377",
   "metadata": {},
   "outputs": [],
   "source": []
  },
  {
   "cell_type": "code",
   "execution_count": null,
   "id": "6ffcdfb5",
   "metadata": {},
   "outputs": [],
   "source": []
  },
  {
   "cell_type": "code",
   "execution_count": null,
   "id": "52377bed",
   "metadata": {},
   "outputs": [],
   "source": []
  }
 ],
 "metadata": {
  "kernelspec": {
   "display_name": "Python 3",
   "language": "python",
   "name": "python3"
  },
  "language_info": {
   "codemirror_mode": {
    "name": "ipython",
    "version": 3
   },
   "file_extension": ".py",
   "mimetype": "text/x-python",
   "name": "python",
   "nbconvert_exporter": "python",
   "pygments_lexer": "ipython3",
   "version": "3.8.8"
  }
 },
 "nbformat": 4,
 "nbformat_minor": 5
}
