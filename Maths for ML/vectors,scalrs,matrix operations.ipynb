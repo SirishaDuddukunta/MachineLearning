{
 "cells": [
  {
   "cell_type": "markdown",
   "id": "68caaf06",
   "metadata": {},
   "source": [
    "### NumPy (Numerical Python) is an open source Python library that’s widely used in science and engineering. The NumPy library contains multidimensional array data structures, such as the homogeneous, N-dimensional ndarray, and a large library of functions that operate efficiently on these data structures."
   ]
  },
  {
   "cell_type": "code",
   "execution_count": 1,
   "id": "65210487",
   "metadata": {},
   "outputs": [],
   "source": [
    "import numpy as np"
   ]
  },
  {
   "cell_type": "code",
   "execution_count": 24,
   "id": "65cf85a9",
   "metadata": {},
   "outputs": [
    {
     "name": "stdout",
     "output_type": "stream",
     "text": [
      "Vector Sum: [5 7 9]\n",
      "Matrix Sum:\n",
      " [[ 8 10 12]\n",
      " [14 16 18]]\n"
     ]
    }
   ],
   "source": [
    "# Vector addition\n",
    "vector1 = np.array([1, 2, 3])\n",
    "vector2 = np.array([4, 5, 6])\n",
    "vector_sum = vector1 + vector2\n",
    "print(\"Vector Sum:\", vector_sum)\n",
    "\n",
    "# Matrix addition\n",
    "matrix1 = np.array([[1, 2, 3], [4, 5, 6]])\n",
    "matrix2 = np.array([[7, 8, 9], [10, 11, 12]])\n",
    "matrix_sum = matrix1 + matrix2\n",
    "print(\"Matrix Sum:\\n\", matrix_sum)"
   ]
  },
  {
   "cell_type": "code",
   "execution_count": 28,
   "id": "3925cf31",
   "metadata": {},
   "outputs": [
    {
     "name": "stdout",
     "output_type": "stream",
     "text": [
      "Scaled Vector: [1, 2, 3, 1, 2, 3]\n",
      "Scaled Matrix:\n",
      " [[2 4]\n",
      " [6 8]]\n"
     ]
    }
   ],
   "source": [
    "#Scalar Multiplication\n",
    "#You can multiply a vector or matrix by a scalar:\n",
    "# Scalar multiplication\n",
    "scalar = 2\n",
    "vector = [1,2,3]\n",
    "vector_scaled = scalar * vector\n",
    "print(\"Scaled Vector:\", vector_scaled)\n",
    "\n",
    "matrix=np.array([[1,2],[3,4]])\n",
    "\n",
    "matrix_scaled = scalar * matrix\n",
    "print(\"Scaled Matrix:\\n\", matrix_scaled)"
   ]
  },
  {
   "cell_type": "code",
   "execution_count": 34,
   "id": "c1efaf98",
   "metadata": {},
   "outputs": [
    {
     "name": "stdout",
     "output_type": "stream",
     "text": [
      "Element-wise Product: [ 4 10 18]\n",
      "Element-wise Matrix Product:\n",
      " [[ 5 12]\n",
      " [21 32]]\n"
     ]
    }
   ],
   "source": [
    "#Element-wise Multiplication\n",
    "#Element-wise multiplication between vectors or matrices can be done using the * operator:\n",
    "#Element-wise multiplication\n",
    "vector1 = np.array([1,2,3])\n",
    "vector2 = np.array([4,5,6])\n",
    "\n",
    "elementwise_product = vector1 * vector2\n",
    "print(\"Element-wise Product:\", elementwise_product)\n",
    "\n",
    "matrix1=np.array([[1,2],[3,4]])\n",
    "matrix2=np.array([[5,6],[7,8]])\n",
    "matrix_product = matrix1 * matrix2\n",
    "print(\"Element-wise Matrix Product:\\n\", matrix_product)"
   ]
  },
  {
   "cell_type": "markdown",
   "id": "2e4ad4a0",
   "metadata": {},
   "source": [
    "NumPy Matrix Operations\n",
    "Here are some of the basic matrix operations provided by NumPy.\n",
    "\n",
    "Functions-\tDescriptions\n",
    "array() -   creates a matrix\n",
    "dot()\t-   performs matrix multiplication \n",
    "transpose()-transposes a matrix \n",
    "linalg.inv()-calculates the inverse of a matrix\n",
    "linalg.det()-calculates the determinant of a matrix\n",
    "flatten()- \t transforms a matrix into 1D array"
   ]
  },
  {
   "cell_type": "code",
   "execution_count": 13,
   "id": "9ab5a88b",
   "metadata": {},
   "outputs": [
    {
     "name": "stdout",
     "output_type": "stream",
     "text": [
      "Matrix multipication of 2 vector :  \n",
      "  [[19 22]\n",
      " [43 50]]\n"
     ]
    }
   ],
   "source": [
    "matrix1=np.array([[1,2],[3,4]]) \n",
    "\n",
    "\n",
    "matrix2=np.array([[5,6],[7,8]])\n",
    "\n",
    "#to multipy using dot\n",
    "\n",
    "result= np.dot(matrix1 ,matrix2)\n",
    "print(\"Matrix multipication of 2 vectors :  \\n \" , result)"
   ]
  },
  {
   "cell_type": "code",
   "execution_count": 19,
   "id": "0f279525",
   "metadata": {},
   "outputs": [
    {
     "name": "stdout",
     "output_type": "stream",
     "text": [
      "[[1 2]\n",
      " [3 4]]\n",
      "Transpose of matrix is\n",
      "[[1 3]\n",
      " [2 4]]\n"
     ]
    }
   ],
   "source": [
    "# Transpose NumPy Matrix\n",
    "print(matrix1)\n",
    "transpos = np.transpose(matrix1)\n",
    "print(\"Transpose of matrix is\")\n",
    "print(transpos)"
   ]
  },
  {
   "cell_type": "code",
   "execution_count": 20,
   "id": "e8257797",
   "metadata": {},
   "outputs": [
    {
     "name": "stdout",
     "output_type": "stream",
     "text": [
      "[[1 2]\n",
      " [3 4]]\n",
      "[[-2.   1. ]\n",
      " [ 1.5 -0.5]]\n"
     ]
    }
   ],
   "source": [
    "# Inverse of a Matrix using numpy\n",
    "print(matrix1)\n",
    "inverse = np.linalg.inv(matrix1)\n",
    "print(inverse)"
   ]
  },
  {
   "cell_type": "markdown",
   "id": "d0081ccb",
   "metadata": {},
   "source": [
    "Note: If we try to find the inverse of a non-square matrix, we will get an error message: numpy.linalg.linalgerror: Last 2 dimensions of the array must be square"
   ]
  },
  {
   "cell_type": "markdown",
   "id": "25a58f0b",
   "metadata": {},
   "source": [
    "#### Determinant of a Matrix in NumPy\n",
    "We can find the determinant of a square matrix using the np.linalg.det() function to calculate the determinant of the given matrix.\n",
    "\n",
    "\n",
    "det(A) = ad - bc"
   ]
  },
  {
   "cell_type": "code",
   "execution_count": 22,
   "id": "02505e7f",
   "metadata": {},
   "outputs": [
    {
     "name": "stdout",
     "output_type": "stream",
     "text": [
      "-1.0\n"
     ]
    }
   ],
   "source": [
    "newarray=np.array([[0,1],[1,2]])\n",
    "detresult=np.linalg.det(newarray)\n",
    "print(detresult)"
   ]
  },
  {
   "cell_type": "markdown",
   "id": "85253dc3",
   "metadata": {},
   "source": [
    "### Flatten Matrix in NumPy\n",
    "Flattening a matrix simply means converting a matrix into a 1D array.\n",
    "\n",
    "To flatten a matrix into a 1-D array we use the array.flatten() function."
   ]
  },
  {
   "cell_type": "code",
   "execution_count": 23,
   "id": "b66e1350",
   "metadata": {},
   "outputs": [
    {
     "name": "stdout",
     "output_type": "stream",
     "text": [
      "Flattened 2x3 matrix: [1 2 3 4 5 7]\n"
     ]
    }
   ],
   "source": [
    "# create a 2x3 matrix\n",
    "matrix1 = np.array([[1, 2, 3], [4, 5, 7]])\n",
    "\n",
    "result = matrix1.flatten()\n",
    "print(\"Flattened 2x3 matrix:\", result)"
   ]
  },
  {
   "cell_type": "code",
   "execution_count": null,
   "id": "93c9cdc5",
   "metadata": {},
   "outputs": [],
   "source": []
  }
 ],
 "metadata": {
  "kernelspec": {
   "display_name": "Python 3",
   "language": "python",
   "name": "python3"
  },
  "language_info": {
   "codemirror_mode": {
    "name": "ipython",
    "version": 3
   },
   "file_extension": ".py",
   "mimetype": "text/x-python",
   "name": "python",
   "nbconvert_exporter": "python",
   "pygments_lexer": "ipython3",
   "version": "3.8.8"
  }
 },
 "nbformat": 4,
 "nbformat_minor": 5
}
