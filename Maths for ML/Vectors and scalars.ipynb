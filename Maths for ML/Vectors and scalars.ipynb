{
 "cells": [
  {
   "cell_type": "markdown",
   "metadata": {},
   "source": [
    "Linear Algebra - Scalars\n",
    "Scalars = value\n",
    "Scalars are just values that represent something\n",
    "\n",
    "Computer science people can interpret vectors as a list of numbers that represent something.\n",
    "physicists consider vectors to be scalar with a direction and it is independent of the plane\n",
    "mathematicians take vectors to be a combination of both and try to generalize it for everyone\n",
    "\n",
    "Linear algebra - vector operations\n",
    "\n",
    "Vector addition-dot product\n",
    "it is the total work achieved through both vectors in a quantified form.\n",
    "\n",
    "Scalar multiplication - when a vector is multiplied with a scalat,it either grows or shrinks\n",
    "positive and negative scalars either grow or shrink the vector\n",
    "\n",
    "Projection-\n",
    "projection is the shadow a vector places on the vector\n",
    "can help in analyzing features of unknown vector\n",
    "\n",
    "\n",
    "Linear Algebra-Matrices\n",
    "Matrix is a composition of numbers,symbols or expressions in a rectangular array\n",
    "we use matrices to convert our expressions of the vector forms to arrays\n",
    "they make operations easier as that is what we work with on computers.\n",
    "\n",
    "linear algebra-matrix operations\n",
    "\n",
    "Matrix Addition\n",
    "simply adding corresponding elements of the 2 matrices\n",
    "both matrices need to be of same order for this to work\n",
    "\n",
    "Matrix Subtraction\n",
    "Subtract the corresponding elements in this operation\n",
    "both matrices need to be of same order for this to work\n",
    "\n",
    "Matrix Multiplication\n",
    "multipliying the rows of matrix 1 with the columns of matrix 2\n",
    "the rows of matrix 1 need to be equal to column of matrix2 for it to work.\n",
    "matrix operations-\n",
    "\n",
    "Transpose\n",
    "interchanging rows and columns of a matrix\n",
    "transpose can be used to flip the dimensions\n",
    "\n",
    "Determinant of matrix\n",
    "it is scalar value of matrix\n",
    "it gives you product of eigen values of matrix\n",
    "\n",
    "Inverse of matrix\n",
    "matrix when multiplied with I nverse,gives us an identity matrix\n",
    "inverse helps us apply transformations effectively\n",
    "some matrices don't have inverse.which means that information they hold is not reliable and very noisy\n"
   ]
  },
  {
   "cell_type": "code",
   "execution_count": null,
   "metadata": {},
   "outputs": [
    {
     "ename": "",
     "evalue": "",
     "output_type": "error",
     "traceback": [
      "\u001b[1;31mFailed to start the Kernel. \n",
      "\u001b[1;31mc:\\Users\\Sirisha Duddukunta\\anaconda3\\lib\\site-packages\\traitlets\\traitlets.py:2196: FutureWarning: Supporting extra quotes around Unicode is deprecated in traitlets 5.0. Use 'c:\\\\Users\\\\Sirisha Duddukunta\\\\AppData\\\\Roaming\\\\jupyter\\\\runtime\\\\kernel-v2-33176L6FMAnfnZan4.json' instead of '\"c:\\\\Users\\\\Sirisha Duddukunta\\\\AppData\\\\Roaming\\\\jupyter\\\\runtime\\\\kernel-v2-33176L6FMAnfnZan4.json\"' – or use CUnicode.\n",
      "\u001b[1;31m  warn(. \n",
      "\u001b[1;31mView Jupyter <a href='command:jupyter.viewOutput'>log</a> for further details."
     ]
    }
   ],
   "source": [
    "import numpy as np"
   ]
  },
  {
   "cell_type": "code",
   "execution_count": null,
   "metadata": {},
   "outputs": [
    {
     "ename": "",
     "evalue": "",
     "output_type": "error",
     "traceback": [
      "\u001b[1;31mFailed to start the Kernel. \n",
      "\u001b[1;31mc:\\Users\\Sirisha Duddukunta\\anaconda3\\lib\\site-packages\\traitlets\\traitlets.py:2196: FutureWarning: Supporting extra quotes around Unicode is deprecated in traitlets 5.0. Use 'c:\\\\Users\\\\Sirisha Duddukunta\\\\AppData\\\\Roaming\\\\jupyter\\\\runtime\\\\kernel-v2-33176gtEpnjUHW7pK.json' instead of '\"c:\\\\Users\\\\Sirisha Duddukunta\\\\AppData\\\\Roaming\\\\jupyter\\\\runtime\\\\kernel-v2-33176gtEpnjUHW7pK.json\"' – or use CUnicode.\n",
      "\u001b[1;31m  warn(. \n",
      "\u001b[1;31mView Jupyter <a href='command:jupyter.viewOutput'>log</a> for further details."
     ]
    }
   ],
   "source": [
    "import pandas as pd "
   ]
  }
 ],
 "metadata": {
  "kernelspec": {
   "display_name": "Python 3",
   "language": "python",
   "name": "python3"
  },
  "language_info": {
   "name": "python",
   "version": "3.8.8"
  }
 },
 "nbformat": 4,
 "nbformat_minor": 2
}
