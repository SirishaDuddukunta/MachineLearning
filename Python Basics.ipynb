{
 "cells": [
  {
   "cell_type": "code",
   "execution_count": 1,
   "id": "98d3bb4e",
   "metadata": {},
   "outputs": [
    {
     "name": "stdout",
     "output_type": "stream",
     "text": [
      "Please enter your name: Sirisha\n",
      "Hello, Sirisha! Nice to meet you!\n"
     ]
    }
   ],
   "source": [
    "# Get user input\n",
    "user_name = input(\"Please enter your name: \")\n",
    "\n",
    "# Greet the user\n",
    "print(f\"Hello, {user_name}! Nice to meet you!\")\n",
    "\n",
    "#formatted strings or f-strings. To replace the value of a variable in an f-string, specify name of the variable within a pair of curly braces\n",
    "#Variables, in any programming language, are like containers that store information. In the code that we’ve written so far, \n",
    "# we’ve already created a variable `user_name`. When the user inputs their name (a string), it is stored in the `user_name` variable."
   ]
  },
  {
   "cell_type": "code",
   "execution_count": 2,
   "id": "028318f5",
   "metadata": {},
   "outputs": [
    {
     "name": "stdout",
     "output_type": "stream",
     "text": [
      "Name: Sirisha\n",
      "Age: 23\n",
      "Height: 5.6\n",
      "Is student: True\n"
     ]
    }
   ],
   "source": [
    "#DataTypes\n",
    "#basic data types in Python: `int`, `float`, `str`, and `bool`, using simple examples that build on each other:\n",
    "#Integer (`int`): Integers are whole numbers without a decimal point. You can create integers and assign them to variables like so: #age = 25\n",
    "#Floating-Point Number (`float`): Floating-point numbers represent real numbers with a decimal point.\n",
    "#String (`str`): Strings are sequences of characters, enclosed in single or double quotes.\n",
    "#Boolean (`bool`): Booleans represent either `True` or `False`, indicating the truth value of a condition.\n",
    "name = \"Sirisha\"          # String\n",
    "age = 23                # Integer\n",
    "height = 5.6            # Float\n",
    "is_student = True       # Boolean\n",
    "\n",
    "# Displaying variable values\n",
    "print(\"Name:\", name)\n",
    "print(\"Age:\", age)\n",
    "print(\"Height:\", height)\n",
    "print(\"Is student:\", is_student)"
   ]
  },
  {
   "cell_type": "code",
   "execution_count": 3,
   "id": "d7fa42db",
   "metadata": {},
   "outputs": [
    {
     "name": "stdout",
     "output_type": "stream",
     "text": [
      "Congratulations! You passed the exam.\n",
      "You are an adult.\n"
     ]
    }
   ],
   "source": [
    "#CONDITIONS\n",
    "\"\"\"If Statement - When you need to execute a block of code only if a particular condition is true, you can use the `if` statement. \n",
    "If the condition evaluates to false, the block of code is not executed.\n",
    "\n",
    "If-else Conditional Statements - The `if-else` statement allows you to execute one block of code if the condition is true,and\n",
    " different block if the condition is false.\n",
    "\n",
    "If-elif-else Ladder \n",
    "The `if-elif-else` statement is used when you have multiple conditions to check. It allows you to test multiple conditions and execute the corresponding block of code for the first true condition encountered. \n",
    "\n",
    "If the conditions in the `if` and all `elif` statements evaluate to false, the `else` block is executed. \"\"\"\n",
    "score = 75\n",
    "\n",
    "if score >= 60:\n",
    "    print(\"Congratulations! You passed the exam.\")\n",
    "# Conditional statement to check if a person is an adult\n",
    "age = 18\n",
    "\n",
    "if age >= 18:\n",
    "    print(\"You are an adult.\")  # Executed if the condition is True\n",
    "else:\n",
    "    print(\"You are a minor.\")  # Executed if the condition is False"
   ]
  },
  {
   "cell_type": "code",
   "execution_count": 4,
   "id": "13231803",
   "metadata": {},
   "outputs": [
    {
     "name": "stdout",
     "output_type": "stream",
     "text": [
      "Good job! You got a B.\n"
     ]
    }
   ],
   "source": [
    "score = 82\n",
    "\n",
    "if score >= 90:\n",
    "    print(\"Excellent! You got an A.\")\n",
    "elif score >= 80:\n",
    "    print(\"Good job! You got a B.\")\n",
    "elif score >= 70:\n",
    "    print(\"Not bad! You got a C.\")\n",
    "else:\n",
    "    print(\"You need to improve. You got an F.\")"
   ]
  },
  {
   "cell_type": "code",
   "execution_count": 5,
   "id": "6b09ce19",
   "metadata": {},
   "outputs": [
    {
     "name": "stdout",
     "output_type": "stream",
     "text": [
      "Good effort, Sirisha! Keep it up.\n"
     ]
    }
   ],
   "source": [
    "#Nested `if` statements are used when you need to check multiple conditions within another condition.\n",
    "\n",
    "name = \"Sirisha\"\n",
    "score = 78\n",
    "\n",
    "if name == \"Sirisha\":\n",
    "    if score >= 80:\n",
    "        print(\"Great job, Sirisha! You got an A.\")\n",
    "    else:\n",
    "        print(\"Good effort, Sirisha! Keep it up.\")\n",
    "else:\n",
    "    print(\"You're doing well, but this message is for Sirisha.\")"
   ]
  },
  {
   "cell_type": "code",
   "execution_count": 6,
   "id": "0442a75f",
   "metadata": {},
   "outputs": [
    {
     "name": "stdout",
     "output_type": "stream",
     "text": [
      "Student: Sirisha\n",
      "Student: Duddukunta\n",
      "Student: Machine\n",
      "Student: Learning\n"
     ]
    }
   ],
   "source": [
    "#For Loop - In Python, the `for` loop provides a concise syntax to let us iterate over existing iterables. We can iterate over `student_names` list like \n",
    "student_names = [\"Sirisha\", \"Duddukunta\", \"Machine\", \"Learning\"]\n",
    "\n",
    "for name in student_names:\n",
    "    print(\"Student:\", name)"
   ]
  },
  {
   "cell_type": "code",
   "execution_count": 7,
   "id": "5906382f",
   "metadata": {},
   "outputs": [
    {
     "name": "stdout",
     "output_type": "stream",
     "text": [
      "apple\n",
      "banana\n",
      "cherry\n",
      "1\n",
      "2\n",
      "3\n",
      "4\n",
      "5\n"
     ]
    }
   ],
   "source": [
    "# Loops\n",
    "# For loop to iterate over a list of fruits\n",
    "fruits = [\"apple\", \"banana\", \"cherry\"]\n",
    "\n",
    "for fruit in fruits:\n",
    "    print(fruit)  # Prints each fruit in the list\n",
    "\n",
    "# While loop to print numbers from 1 to 5\n",
    "i = 1\n",
    "while i <= 5:\n",
    "    print(i)  # Prints the current value of i\n",
    "    i += 1    # Increments i by 1\n",
    "#Explanation:\n",
    "#Loops are used to repeat a block of code multiple times.\n",
    "#The for loop iterates over each element in a sequence (like a list). In this case, it prints each fruit in the fruits list.\n",
    "#The while loop keeps running as long as the condition is true. Here, it prints numbers from 1 to 5 by incrementing the value of i by 1 in each iteration."
   ]
  },
  {
   "cell_type": "code",
   "execution_count": 10,
   "id": "36601623",
   "metadata": {},
   "outputs": [
    {
     "name": "stdout",
     "output_type": "stream",
     "text": [
      "Hello, Sirisha!\n",
      "Sum: 60\n"
     ]
    }
   ],
   "source": [
    "#Functions\n",
    "# Function to greet a user\n",
    "def greet(name):\n",
    "    return \"Hello, \" + name + \"!\"  # Concatenates \"Hello, \" with the name and returns the greeting\n",
    "\n",
    "# Function to add two numbers\n",
    "def add_numbers(a, b):\n",
    "    return a + b  # Returns the sum of a and b\n",
    "\n",
    "# Calling the functions\n",
    "print(greet(\"Sirisha\"))  # Prints the greeting for Sirisha\n",
    "print(\"Sum:\", add_numbers(45, 15))  # Prints the sum of 10 and 20"
   ]
  },
  {
   "cell_type": "markdown",
   "id": "ff961925",
   "metadata": {},
   "source": [
    "Functions are reusable blocks of code that perform a specific task. They help organize your code and avoid repetition.\n",
    "\n",
    "The greet() function takes a name as an argument and returns a greeting message.\n",
    "\n",
    "The add_numbers() function takes two arguments, a and b, and returns their sum.\n",
    "\n",
    "You call a function by writing its name followed by parentheses containing any arguments the function requires. The output of the functions is printed using the print() function."
   ]
  },
  {
   "cell_type": "code",
   "execution_count": 12,
   "id": "36e2a191",
   "metadata": {},
   "outputs": [
    {
     "name": "stdout",
     "output_type": "stream",
     "text": [
      "Sirisha\n",
      "D\n"
     ]
    }
   ],
   "source": [
    "\"\"\"Loop Control Statements - `break` exits the loop prematurely, and `continue` skips the rest of the current iteration and \n",
    "moves to the next one.\"\"\"\n",
    "\n",
    "name = [\"Sirisha\", \"D\", \"Machine\", \"Learning\"]\n",
    "\n",
    "for name in name:\n",
    "    if name == \"Machine\":\n",
    "        break\n",
    "    print(name)\n",
    "    \n",
    "#in do-while,loop body is guaranteed to execute at least once before the condition is checked.\n",
    "\n",
    "\"\"\" \"Machine\" is not printed because when the loop encounters \"Machine\", it exits the loop due to the break statement.\n",
    "\"Learning\" is also not printed because the loop has already terminated.\n",
    "Only \"Sirisha\" and \"D\" are printed because they appear before \"Machine\" in the list, and the loop executes the print(name) \n",
    "statement for these elements before encountering the break statement.\"\"\""
   ]
  },
  {
   "cell_type": "code",
   "execution_count": 17,
   "id": "d61de9bc",
   "metadata": {},
   "outputs": [
    {
     "name": "stdout",
     "output_type": "stream",
     "text": [
      "Sirisha\n",
      "D\n",
      "Learning\n"
     ]
    }
   ],
   "source": [
    "name = [\"Sirisha\", \"D\", \"Machine\", \"Learning\"]\n",
    "\n",
    "for name in name:\n",
    "    if name == \"Machine\":\n",
    "        continue\n",
    "    print(name)\n",
    "    \n",
    "#The continue statement causes the loop to skip the remaining code in  current iteration and move to next iteration of loop.\n",
    "#This means that if name is \"Machine\", the print(name) statement is not executed, and the loop proceeds to next element in list"
   ]
  },
  {
   "cell_type": "markdown",
   "id": "321e888e",
   "metadata": {},
   "source": [
    "Functions in Python are reusable blocks of code that perform a specific task. They allow you to encapsulate logic that can be used multiple times in different parts of your program. Functions help organize your code, make it more readable, and reduce redundancy.\n",
    "\n",
    "Key Concepts of Functions\n",
    "Defining a Function:\n",
    "\n",
    "You define a function using the def keyword, followed by the function name and parentheses ().\n",
    "Inside the parentheses, you can define parameters (optional) that the function can accept as input.\n",
    "The code block that follows the colon : is the body of the function, which contains the logic the function will execute.\n",
    "Calling a Function:\n",
    "\n",
    "To use a function, you \"call\" it by writing the function's name followed by parentheses. If the function requires parameters, you pass the arguments inside the parentheses.\n",
    "Return Statement:\n",
    "\n",
    "A function can return a value using the return statement. If a function doesn't have a return statement, it returns None by default.\n",
    "Parameters and Arguments:\n",
    "\n",
    "Parameters are the variables listed inside the parentheses in the function definition.\n",
    "Arguments are the actual values you pass to the function when you call it."
   ]
  },
  {
   "cell_type": "code",
   "execution_count": 19,
   "id": "a374b830",
   "metadata": {},
   "outputs": [
    {
     "name": "stdout",
     "output_type": "stream",
     "text": [
      "8\n"
     ]
    }
   ],
   "source": [
    "#Example of a Simple Function\n",
    "#Function to add two numbers\n",
    "def add_numbers(a, b):\n",
    "    sum = a + b  # Calculate the sum of a and b\n",
    "    return sum   # Return the result to the caller\n",
    "\n",
    "# Calling the function\n",
    "result = add_numbers(5, 3)\n",
    "print(result)  # Output: 8"
   ]
  },
  {
   "cell_type": "code",
   "execution_count": 18,
   "id": "989b7985",
   "metadata": {},
   "outputs": [
    {
     "name": "stdout",
     "output_type": "stream",
     "text": [
      "Hello, Alice!\n",
      "Sum: 30\n"
     ]
    }
   ],
   "source": [
    "#Functions\n",
    "#function to greet a user\n",
    "def greet(name):\n",
    "    return \"Hello, \" + name + \"!\"  # Concatenates \"Hello, \" with the name and returns the greeting\n",
    "\n",
    "# Function to add two numbers\n",
    "def add_numbers(a, b):\n",
    "    return a + b  # Returns the sum of a and b\n",
    "\n",
    "# Calling the functions\n",
    "print(greet(\"Alice\"))  # Prints the greeting for Alice\n",
    "print(\"Sum:\", add_numbers(10, 20))  # Prints the sum of 10 and 20"
   ]
  },
  {
   "cell_type": "markdown",
   "id": "f3c91117",
   "metadata": {},
   "source": [
    "Explanation:\n",
    "\n",
    "Functions are reusable blocks of code that perform a specific task. They help organize your code and avoid repetition.\n",
    "The greet() function takes a name as an argument and returns a greeting message.\n",
    "The add_numbers() function takes two arguments, a and b, and returns their sum.\n",
    "You call a function by writing its name followed by parentheses containing any arguments the function requires. The output of the functions is printed using the print() function."
   ]
  },
  {
   "cell_type": "code",
   "execution_count": null,
   "id": "10c7edc6",
   "metadata": {},
   "outputs": [],
   "source": []
  }
 ],
 "metadata": {
  "kernelspec": {
   "display_name": "Python 3",
   "language": "python",
   "name": "python3"
  },
  "language_info": {
   "codemirror_mode": {
    "name": "ipython",
    "version": 3
   },
   "file_extension": ".py",
   "mimetype": "text/x-python",
   "name": "python",
   "nbconvert_exporter": "python",
   "pygments_lexer": "ipython3",
   "version": "3.8.8"
  }
 },
 "nbformat": 4,
 "nbformat_minor": 5
}
